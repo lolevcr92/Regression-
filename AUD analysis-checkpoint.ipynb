{
 "cells": [
  {
   "cell_type": "code",
   "execution_count": 129,
   "metadata": {},
   "outputs": [],
   "source": [
    "import pandas as pd\n",
    "import numpy as np\n",
    "import matplotlib.pyplot as plt\n",
    "import seaborn as sns\n",
    "import pandas_profiling as pp\n",
    "import functools\n",
    "%matplotlib inline"
   ]
  },
  {
   "cell_type": "code",
   "execution_count": 130,
   "metadata": {},
   "outputs": [],
   "source": [
    "def extract_data(excel, fill_method = 'linear'):\n",
    "    \"\"\"\n",
    "    Extracts sheets names from an imported excel and returns a list containing the names\n",
    "    input -> (string) path/filename\n",
    "          -> (string) way for filling NaN values\n",
    "    output -> dataframe with adjusted data (i)\n",
    "    \"\"\"\n",
    "    \n",
    "    xls = pd.ExcelFile(excel)\n",
    "    df = xls.parse(sheet_name=0)\n",
    "    pivot = df.columns[0]\n",
    "    \n",
    "    for sheet in xls.sheet_names[1:]:\n",
    "        df = pd.merge(df, xls.parse(sheet_name=sheet), on=pivot, how='outer')\n",
    "    \n",
    "    df = df.sort_values(by=pivot).set_index([pivot])\n",
    "    \n",
    "    #Select the moment from which all the columns have values (not NaN)\n",
    "    start_index = 0\n",
    "    for index,columns in df.iterrows():\n",
    "    \n",
    "        if True in [np.isnan(columns[col]) for col in range(0, len(columns))]:\n",
    "            continue\n",
    "        else: \n",
    "            start_index = index\n",
    "            break\n",
    "    \n",
    "    df.interpolate(method='linear', axis=0, inplace=True)\n",
    "\n",
    "    return df.loc[start_index:]"
   ]
  },
  {
   "cell_type": "code",
   "execution_count": 131,
   "metadata": {},
   "outputs": [],
   "source": [
    "df = extract_data('australia.xlsx')"
   ]
  },
  {
   "cell_type": "code",
   "execution_count": 132,
   "metadata": {},
   "outputs": [],
   "source": [
    "import statsmodels.api as sm\n",
    "from sklearn.preprocessing import StandardScaler\n",
    "from sklearn.preprocessing import PolynomialFeatures\n",
    "from sklearn.model_selection import train_test_split"
   ]
  },
  {
   "cell_type": "code",
   "execution_count": 141,
   "metadata": {},
   "outputs": [],
   "source": [
    "def regress_data(data, x_col, y_col, degree = 1, test = 0.05, validation = 0.3, prepap = 'standardize'):\n",
    "    \"\"\"\n",
    "    Apply regression on dataframe, by specifying degree of regression (polynomial)\n",
    "    \n",
    "    input:\n",
    "        -> data - Dataframe containing all variables (both dependent and independent ones)\n",
    "        -> x - list containing column numbers you wish to set as independent variables\n",
    "        -> y - integer referring to the column number you wish to se as dependent variable\n",
    "        -> degree - degree of regression (default set to 0, as in linear regression)\n",
    "        -> test - float referring to weight test data out of total data (default is set to 5% test - 95% training data)\n",
    "        -> validation - floate referring to weight validation data out of training data (default is set to 20% validation\n",
    "                        data - 80% train data)\n",
    "                        \n",
    "        ex: total data = training data(95%) + test data(5%)\n",
    "            training data = train data(80%) + validation data(20%)\n",
    "    \n",
    "    output: \n",
    "        -> print dataframe with p-value for each independet variable\n",
    "        -> print rmse (root-mean-square error)\n",
    "        -> print r-squared\n",
    "        -> print graphic representation for (test - result data, compared to actual data)\n",
    "    \"\"\"\n",
    "    \n",
    "    X, y = 0, 0\n",
    "    X_columns = 0 \n",
    "    \n",
    "    if prepap == 'standardize':\n",
    "        X = data.iloc[:,x_col]\n",
    "        y = data.iloc[:,[y_col]]\n",
    "        X_columns = X.columns\n",
    "        \n",
    "        scaler_X = StandardScaler() \n",
    "        scaler_y = StandardScaler()\n",
    "        X = scaler_X.fit_transform(X)\n",
    "        y = scaler_y.fit_transform(y)\n",
    "        \n",
    "    elif prepap == 'percent':\n",
    "        X = data.iloc[:,x_col]\n",
    "        y = data.iloc[:,[y_col]]\n",
    "        X = X.pct_change()[1:]\n",
    "        y = y.pct_change()[1:]\n",
    "        X_columns = X.columns\n",
    "    \n",
    "    else: \n",
    "        X = data.iloc[:,x_col]\n",
    "        y = data.iloc[:,[y_col]]\n",
    "        X_columns = X.columns\n",
    "        \n",
    "    \n",
    "    \n",
    "    #Splitting data into training-test sets\n",
    "    split_index = int((1-test)*len(X))\n",
    "    X_training, X_test = X[:split_index], X[split_index:]\n",
    "    y_training, y_test = y[:split_index], y[split_index:]\n",
    "    \n",
    "    #Splitting data into train-validation sets\n",
    "    X_train, X_validation, y_train, y_validation = train_test_split(X_training, y_training, test_size = validation)\n",
    "    \n",
    "    \n",
    "    #Building polynomial feature\n",
    "    polynomial_features = PolynomialFeatures(degree=degree)\n",
    "    \n",
    "    #Building independent variables for polynomial regression\n",
    "    X_train_pol = polynomial_features.fit_transform(X_train)\n",
    "    X_valid_pol = polynomial_features.fit_transform(X_validation)\n",
    "    X_test_pol = polynomial_features.fit_transform(X_test)\n",
    "    \n",
    "    #Creating model\n",
    "    model = sm.OLS(y_train, X_train_pol).fit()\n",
    "    \n",
    "    #Predicting with test data\n",
    "    y_pred = model.predict(X_valid_pol)\n",
    "    \n",
    "    #Calculating error metrics for test data set\n",
    "    if prepap != 'standardize': y_validation = y_validation.values\n",
    "    \n",
    "    diff_valid = y_pred - y_validation.reshape(-1)\n",
    "    mse_validation = (diff_valid**2).sum()/len(diff_valid)\n",
    "    rmse_validation = np.sqrt(mse_validation)\n",
    "    mae_validation = np.abs(diff_valid).sum()\n",
    "    \n",
    "    #Forecast with test data set\n",
    "    y_forecast_pol = model.predict(X_test_pol)\n",
    "    \n",
    "    #Returnin to raw data\n",
    "    y_forecast = 0\n",
    "    if prepap == 'standardize':\n",
    "        y_forecast = scaler_y.inverse_transform(y_forecast_pol)\n",
    "    elif prepap == 'percent':\n",
    "        init = y.iloc[split_index-1].values[0]\n",
    "        y_forecast = (1 + y_forecast_pol) * init\n",
    "    else: \n",
    "        y_forecast = y_forecast_pol\n",
    "        \n",
    "    #Building results in a dictionar        \n",
    "    if prepap != 'standardize': y_test = y_test.values\n",
    "    result = {'model_specs':{'degree':degree,\n",
    "                             'X_columns': list(X_columns), \n",
    "                             'period':[df.iloc[0].name, df.iloc[-1].name],\n",
    "                             'test_period':[df.iloc[0].name, df.iloc[-1].name]},\n",
    "              'fcast_vs_real':[y_forecast,y_test.reshape(-1)],\n",
    "              'valid_metrics':[mse_validation, rmse_validation, mae_validation]}\n",
    "    \n",
    "    return result"
   ]
  },
  {
   "cell_type": "code",
   "execution_count": 142,
   "metadata": {},
   "outputs": [],
   "source": [
    "result = regress_data(df,x_col=[0,1,2,4,6], y_col = 8, degree= 1, prepap='percent')"
   ]
  },
  {
   "cell_type": "code",
   "execution_count": 154,
   "metadata": {},
   "outputs": [],
   "source": [
    "mse_error, rmse_error, mae_error = [], [], []\n",
    "\n",
    "for degree in range(1,6):\n",
    "    result = regress_data(df,x_col=[0,1,2,4,6], y_col = 8, degree= degree, prepap='percent')\n",
    "    mse_error.append(result['valid_metrics'][0])\n",
    "    rmse_error.append(result['valid_metrics'][1])\n",
    "    mae_error.append(result['valid_metrics'][2])"
   ]
  },
  {
   "cell_type": "code",
   "execution_count": 155,
   "metadata": {},
   "outputs": [
    {
     "data": {
      "text/plain": [
       "[0.0072125209169715135,\n",
       " 0.0071222280981502375,\n",
       " 0.007890132507063812,\n",
       " 0.020829606156954908,\n",
       " 0.06174146917395005]"
      ]
     },
     "execution_count": 155,
     "metadata": {},
     "output_type": "execute_result"
    }
   ],
   "source": [
    "rmse_error"
   ]
  },
  {
   "cell_type": "code",
   "execution_count": 156,
   "metadata": {},
   "outputs": [
    {
     "data": {
      "text/plain": [
       "[<matplotlib.lines.Line2D at 0x1a314b38>]"
      ]
     },
     "execution_count": 156,
     "metadata": {},
     "output_type": "execute_result"
    },
    {
     "data": {
      "image/png": "[encoded data removed]",
      "text/plain": [
       "<Figure size 432x288 with 1 Axes>"
      ]
     },
     "metadata": {
      "needs_background": "light"
     },
     "output_type": "display_data"
    }
   ],
   "source": [
    "plt.plot(rmse_error)"
   ]
  },
  {
   "cell_type": "code",
   "execution_count": null,
   "metadata": {},
   "outputs": [],
   "source": []
  }
 ],
 "metadata": {
  "kernelspec": {
   "display_name": "Python 3",
   "language": "python",
   "name": "python3"
  },
  "language_info": {
   "codemirror_mode": {
    "name": "ipython",
    "version": 3
   },
   "file_extension": ".py",
   "mimetype": "text/x-python",
   "name": "python",
   "nbconvert_exporter": "python",
   "pygments_lexer": "ipython3",
   "version": "3.7.3"
  }
 },
 "nbformat": 4,
 "nbformat_minor": 2
}
